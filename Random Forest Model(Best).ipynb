{
 "cells": [
  {
   "cell_type": "code",
   "execution_count": 64,
   "id": "4dd0b046-dc3d-4bac-a4c0-e982d1f1ba0f",
   "metadata": {},
   "outputs": [],
   "source": [
    "import os\n",
    "import pandas as pd\n",
    "import numpy as np\n",
    "import seaborn as sns\n",
    "import matplotlib.pyplot as plt\n",
    "from sklearn.preprocessing import LabelEncoder, StandardScaler\n",
    "from sklearn.ensemble import RandomForestRegressor\n",
    "from sklearn.metrics import mean_squared_error"
   ]
  },
  {
   "cell_type": "markdown",
   "id": "5ddd913d-91c7-44c1-abb0-c90ca8361f1c",
   "metadata": {},
   "source": [
    "# EDA"
   ]
  },
  {
   "cell_type": "code",
   "execution_count": 66,
   "id": "978d00d4-271c-4e32-94a8-56682556aa1d",
   "metadata": {},
   "outputs": [],
   "source": [
    "# 1. LOAD DATASETS\n",
    "\n",
    "train = pd.read_csv('C:/Users/somas/Documents/BigMart Sales Prediction/train_v9rqX0R.csv')\n",
    "test_original = pd.read_csv('C:/Users/somas/Documents/BigMart Sales Prediction/test_AbJTz2l.csv')\n",
    "\n",
    "# Copy test for transformations\n",
    "test = test_original.copy()"
   ]
  },
  {
   "cell_type": "code",
   "execution_count": 68,
   "id": "63ab5350-b78e-48f0-bb9b-ff64d592a7e3",
   "metadata": {},
   "outputs": [
    {
     "name": "stdout",
     "output_type": "stream",
     "text": [
      "<class 'pandas.core.frame.DataFrame'>\n",
      "RangeIndex: 8523 entries, 0 to 8522\n",
      "Data columns (total 12 columns):\n",
      " #   Column                     Non-Null Count  Dtype  \n",
      "---  ------                     --------------  -----  \n",
      " 0   Item_Identifier            8523 non-null   object \n",
      " 1   Item_Weight                7060 non-null   float64\n",
      " 2   Item_Fat_Content           8523 non-null   object \n",
      " 3   Item_Visibility            8523 non-null   float64\n",
      " 4   Item_Type                  8523 non-null   object \n",
      " 5   Item_MRP                   8523 non-null   float64\n",
      " 6   Outlet_Identifier          8523 non-null   object \n",
      " 7   Outlet_Establishment_Year  8523 non-null   int64  \n",
      " 8   Outlet_Size                6113 non-null   object \n",
      " 9   Outlet_Location_Type       8523 non-null   object \n",
      " 10  Outlet_Type                8523 non-null   object \n",
      " 11  Item_Outlet_Sales          8523 non-null   float64\n",
      "dtypes: float64(4), int64(1), object(7)\n",
      "memory usage: 799.2+ KB\n"
     ]
    },
    {
     "data": {
      "text/html": [
       "<div>\n",
       "<style scoped>\n",
       "    .dataframe tbody tr th:only-of-type {\n",
       "        vertical-align: middle;\n",
       "    }\n",
       "\n",
       "    .dataframe tbody tr th {\n",
       "        vertical-align: top;\n",
       "    }\n",
       "\n",
       "    .dataframe thead th {\n",
       "        text-align: right;\n",
       "    }\n",
       "</style>\n",
       "<table border=\"1\" class=\"dataframe\">\n",
       "  <thead>\n",
       "    <tr style=\"text-align: right;\">\n",
       "      <th></th>\n",
       "      <th>Item_Identifier</th>\n",
       "      <th>Item_Weight</th>\n",
       "      <th>Item_Fat_Content</th>\n",
       "      <th>Item_Visibility</th>\n",
       "      <th>Item_Type</th>\n",
       "      <th>Item_MRP</th>\n",
       "      <th>Outlet_Identifier</th>\n",
       "      <th>Outlet_Establishment_Year</th>\n",
       "      <th>Outlet_Size</th>\n",
       "      <th>Outlet_Location_Type</th>\n",
       "      <th>Outlet_Type</th>\n",
       "      <th>Item_Outlet_Sales</th>\n",
       "    </tr>\n",
       "  </thead>\n",
       "  <tbody>\n",
       "    <tr>\n",
       "      <th>count</th>\n",
       "      <td>8523</td>\n",
       "      <td>7060.000000</td>\n",
       "      <td>8523</td>\n",
       "      <td>8523.000000</td>\n",
       "      <td>8523</td>\n",
       "      <td>8523.000000</td>\n",
       "      <td>8523</td>\n",
       "      <td>8523.000000</td>\n",
       "      <td>6113</td>\n",
       "      <td>8523</td>\n",
       "      <td>8523</td>\n",
       "      <td>8523.000000</td>\n",
       "    </tr>\n",
       "    <tr>\n",
       "      <th>unique</th>\n",
       "      <td>1559</td>\n",
       "      <td>NaN</td>\n",
       "      <td>5</td>\n",
       "      <td>NaN</td>\n",
       "      <td>16</td>\n",
       "      <td>NaN</td>\n",
       "      <td>10</td>\n",
       "      <td>NaN</td>\n",
       "      <td>3</td>\n",
       "      <td>3</td>\n",
       "      <td>4</td>\n",
       "      <td>NaN</td>\n",
       "    </tr>\n",
       "    <tr>\n",
       "      <th>top</th>\n",
       "      <td>FDW13</td>\n",
       "      <td>NaN</td>\n",
       "      <td>Low Fat</td>\n",
       "      <td>NaN</td>\n",
       "      <td>Fruits and Vegetables</td>\n",
       "      <td>NaN</td>\n",
       "      <td>OUT027</td>\n",
       "      <td>NaN</td>\n",
       "      <td>Medium</td>\n",
       "      <td>Tier 3</td>\n",
       "      <td>Supermarket Type1</td>\n",
       "      <td>NaN</td>\n",
       "    </tr>\n",
       "    <tr>\n",
       "      <th>freq</th>\n",
       "      <td>10</td>\n",
       "      <td>NaN</td>\n",
       "      <td>5089</td>\n",
       "      <td>NaN</td>\n",
       "      <td>1232</td>\n",
       "      <td>NaN</td>\n",
       "      <td>935</td>\n",
       "      <td>NaN</td>\n",
       "      <td>2793</td>\n",
       "      <td>3350</td>\n",
       "      <td>5577</td>\n",
       "      <td>NaN</td>\n",
       "    </tr>\n",
       "    <tr>\n",
       "      <th>mean</th>\n",
       "      <td>NaN</td>\n",
       "      <td>12.857645</td>\n",
       "      <td>NaN</td>\n",
       "      <td>0.066132</td>\n",
       "      <td>NaN</td>\n",
       "      <td>140.992782</td>\n",
       "      <td>NaN</td>\n",
       "      <td>1997.831867</td>\n",
       "      <td>NaN</td>\n",
       "      <td>NaN</td>\n",
       "      <td>NaN</td>\n",
       "      <td>2181.288914</td>\n",
       "    </tr>\n",
       "    <tr>\n",
       "      <th>std</th>\n",
       "      <td>NaN</td>\n",
       "      <td>4.643456</td>\n",
       "      <td>NaN</td>\n",
       "      <td>0.051598</td>\n",
       "      <td>NaN</td>\n",
       "      <td>62.275067</td>\n",
       "      <td>NaN</td>\n",
       "      <td>8.371760</td>\n",
       "      <td>NaN</td>\n",
       "      <td>NaN</td>\n",
       "      <td>NaN</td>\n",
       "      <td>1706.499616</td>\n",
       "    </tr>\n",
       "    <tr>\n",
       "      <th>min</th>\n",
       "      <td>NaN</td>\n",
       "      <td>4.555000</td>\n",
       "      <td>NaN</td>\n",
       "      <td>0.000000</td>\n",
       "      <td>NaN</td>\n",
       "      <td>31.290000</td>\n",
       "      <td>NaN</td>\n",
       "      <td>1985.000000</td>\n",
       "      <td>NaN</td>\n",
       "      <td>NaN</td>\n",
       "      <td>NaN</td>\n",
       "      <td>33.290000</td>\n",
       "    </tr>\n",
       "    <tr>\n",
       "      <th>25%</th>\n",
       "      <td>NaN</td>\n",
       "      <td>8.773750</td>\n",
       "      <td>NaN</td>\n",
       "      <td>0.026989</td>\n",
       "      <td>NaN</td>\n",
       "      <td>93.826500</td>\n",
       "      <td>NaN</td>\n",
       "      <td>1987.000000</td>\n",
       "      <td>NaN</td>\n",
       "      <td>NaN</td>\n",
       "      <td>NaN</td>\n",
       "      <td>834.247400</td>\n",
       "    </tr>\n",
       "    <tr>\n",
       "      <th>50%</th>\n",
       "      <td>NaN</td>\n",
       "      <td>12.600000</td>\n",
       "      <td>NaN</td>\n",
       "      <td>0.053931</td>\n",
       "      <td>NaN</td>\n",
       "      <td>143.012800</td>\n",
       "      <td>NaN</td>\n",
       "      <td>1999.000000</td>\n",
       "      <td>NaN</td>\n",
       "      <td>NaN</td>\n",
       "      <td>NaN</td>\n",
       "      <td>1794.331000</td>\n",
       "    </tr>\n",
       "    <tr>\n",
       "      <th>75%</th>\n",
       "      <td>NaN</td>\n",
       "      <td>16.850000</td>\n",
       "      <td>NaN</td>\n",
       "      <td>0.094585</td>\n",
       "      <td>NaN</td>\n",
       "      <td>185.643700</td>\n",
       "      <td>NaN</td>\n",
       "      <td>2004.000000</td>\n",
       "      <td>NaN</td>\n",
       "      <td>NaN</td>\n",
       "      <td>NaN</td>\n",
       "      <td>3101.296400</td>\n",
       "    </tr>\n",
       "    <tr>\n",
       "      <th>max</th>\n",
       "      <td>NaN</td>\n",
       "      <td>21.350000</td>\n",
       "      <td>NaN</td>\n",
       "      <td>0.328391</td>\n",
       "      <td>NaN</td>\n",
       "      <td>266.888400</td>\n",
       "      <td>NaN</td>\n",
       "      <td>2009.000000</td>\n",
       "      <td>NaN</td>\n",
       "      <td>NaN</td>\n",
       "      <td>NaN</td>\n",
       "      <td>13086.964800</td>\n",
       "    </tr>\n",
       "  </tbody>\n",
       "</table>\n",
       "</div>"
      ],
      "text/plain": [
       "       Item_Identifier  Item_Weight Item_Fat_Content  Item_Visibility  \\\n",
       "count             8523  7060.000000             8523      8523.000000   \n",
       "unique            1559          NaN                5              NaN   \n",
       "top              FDW13          NaN          Low Fat              NaN   \n",
       "freq                10          NaN             5089              NaN   \n",
       "mean               NaN    12.857645              NaN         0.066132   \n",
       "std                NaN     4.643456              NaN         0.051598   \n",
       "min                NaN     4.555000              NaN         0.000000   \n",
       "25%                NaN     8.773750              NaN         0.026989   \n",
       "50%                NaN    12.600000              NaN         0.053931   \n",
       "75%                NaN    16.850000              NaN         0.094585   \n",
       "max                NaN    21.350000              NaN         0.328391   \n",
       "\n",
       "                    Item_Type     Item_MRP Outlet_Identifier  \\\n",
       "count                    8523  8523.000000              8523   \n",
       "unique                     16          NaN                10   \n",
       "top     Fruits and Vegetables          NaN            OUT027   \n",
       "freq                     1232          NaN               935   \n",
       "mean                      NaN   140.992782               NaN   \n",
       "std                       NaN    62.275067               NaN   \n",
       "min                       NaN    31.290000               NaN   \n",
       "25%                       NaN    93.826500               NaN   \n",
       "50%                       NaN   143.012800               NaN   \n",
       "75%                       NaN   185.643700               NaN   \n",
       "max                       NaN   266.888400               NaN   \n",
       "\n",
       "        Outlet_Establishment_Year Outlet_Size Outlet_Location_Type  \\\n",
       "count                 8523.000000        6113                 8523   \n",
       "unique                        NaN           3                    3   \n",
       "top                           NaN      Medium               Tier 3   \n",
       "freq                          NaN        2793                 3350   \n",
       "mean                  1997.831867         NaN                  NaN   \n",
       "std                      8.371760         NaN                  NaN   \n",
       "min                   1985.000000         NaN                  NaN   \n",
       "25%                   1987.000000         NaN                  NaN   \n",
       "50%                   1999.000000         NaN                  NaN   \n",
       "75%                   2004.000000         NaN                  NaN   \n",
       "max                   2009.000000         NaN                  NaN   \n",
       "\n",
       "              Outlet_Type  Item_Outlet_Sales  \n",
       "count                8523        8523.000000  \n",
       "unique                  4                NaN  \n",
       "top     Supermarket Type1                NaN  \n",
       "freq                 5577                NaN  \n",
       "mean                  NaN        2181.288914  \n",
       "std                   NaN        1706.499616  \n",
       "min                   NaN          33.290000  \n",
       "25%                   NaN         834.247400  \n",
       "50%                   NaN        1794.331000  \n",
       "75%                   NaN        3101.296400  \n",
       "max                   NaN       13086.964800  "
      ]
     },
     "execution_count": 68,
     "metadata": {},
     "output_type": "execute_result"
    }
   ],
   "source": [
    "train.info()\n",
    "train.describe(include='all')"
   ]
  },
  {
   "cell_type": "markdown",
   "id": "ff5caa91-1eb2-45a4-8e6c-bd71ff5fe6cd",
   "metadata": {},
   "source": [
    "##### From this, we discovered:\n",
    "\n",
    "##### Item_Weight and Outlet_Size contain missing values.\n",
    "##### Item_Fat_Content has inconsistent labels (LF, low fat, reg).\n",
    "##### Item_Visibility can be zero, which is likely missing in disguise."
   ]
  },
  {
   "cell_type": "code",
   "execution_count": 70,
   "id": "9e52d6d4-5966-4351-a3a4-76e9a8051aae",
   "metadata": {},
   "outputs": [
    {
     "data": {
      "text/plain": [
       "Item_Identifier                 0\n",
       "Item_Weight                  1463\n",
       "Item_Fat_Content                0\n",
       "Item_Visibility                 0\n",
       "Item_Type                       0\n",
       "Item_MRP                        0\n",
       "Outlet_Identifier               0\n",
       "Outlet_Establishment_Year       0\n",
       "Outlet_Size                  2410\n",
       "Outlet_Location_Type            0\n",
       "Outlet_Type                     0\n",
       "Item_Outlet_Sales               0\n",
       "dtype: int64"
      ]
     },
     "execution_count": 70,
     "metadata": {},
     "output_type": "execute_result"
    }
   ],
   "source": [
    "train.isna().sum()"
   ]
  },
  {
   "cell_type": "markdown",
   "id": "f504a560-6e4f-4fa0-b588-c7e5be48f501",
   "metadata": {},
   "source": [
    "##### Item_Weight → 1463 missing\n",
    "##### Outlet_Size → 2410 missing\n",
    "##### We also checked the distribution of these columns:\n",
    "\n",
    "##### Item_Weight had a fairly normal shape → chosen to fill with median.\n",
    "##### Outlet_Size → replaced NaN with \"Unknown\" because it’s categorical."
   ]
  },
  {
   "cell_type": "code",
   "execution_count": 72,
   "id": "787a74ec-b049-4226-9299-0c7296f4b8f7",
   "metadata": {},
   "outputs": [
    {
     "data": {
      "text/plain": [
       "Item_Identifier                 0\n",
       "Item_Weight                   976\n",
       "Item_Fat_Content                0\n",
       "Item_Visibility                 0\n",
       "Item_Type                       0\n",
       "Item_MRP                        0\n",
       "Outlet_Identifier               0\n",
       "Outlet_Establishment_Year       0\n",
       "Outlet_Size                  1606\n",
       "Outlet_Location_Type            0\n",
       "Outlet_Type                     0\n",
       "dtype: int64"
      ]
     },
     "execution_count": 72,
     "metadata": {},
     "output_type": "execute_result"
    }
   ],
   "source": [
    "test_original.isna().sum()"
   ]
  },
  {
   "cell_type": "markdown",
   "id": "a0739101-3c0d-4e7e-851b-effd48932791",
   "metadata": {},
   "source": [
    "##### Similarly, found missing in the same columns."
   ]
  },
  {
   "cell_type": "markdown",
   "id": "17909504-f442-4852-a4c1-d20a796f658e",
   "metadata": {},
   "source": [
    "### Decision:\n",
    "\n",
    "##### Median for Item_Weight.\n",
    "##### Unknown for Outlet_Size."
   ]
  },
  {
   "cell_type": "code",
   "execution_count": 75,
   "id": "72b725a3-023b-4a7c-8a58-b5889d7ed3e5",
   "metadata": {},
   "outputs": [
    {
     "data": {
      "image/png": "[encoded data removed]",
      "text/plain": [
       "<Figure size 640x480 with 1 Axes>"
      ]
     },
     "metadata": {},
     "output_type": "display_data"
    }
   ],
   "source": [
    "sns.histplot(train['Item_Outlet_Sales'], kde=True)\n",
    "plt.show()"
   ]
  },
  {
   "cell_type": "markdown",
   "id": "54309dca-1d50-4868-98cb-952488d3a876",
   "metadata": {},
   "source": [
    "##### The distribution was right-skewed with some extremely large values → indicating potential outliers.\n",
    "##### We decided to handle it later with a log transform."
   ]
  },
  {
   "cell_type": "markdown",
   "id": "0153ddc0-a9bc-4078-89de-3dbdb55cc927",
   "metadata": {},
   "source": [
    "##### Item_Visibility:\n",
    "\n",
    "Zero values, which is not truly “0 visibility” but data-collection issues.\n",
    "We replaced zeros with median per Item_Identifier.\n",
    "Item_MRP:\n",
    "Spans from 30 to 270. No major outliers since MRP is naturally capped."
   ]
  },
  {
   "cell_type": "code",
   "execution_count": 81,
   "id": "7b129d19-b96e-4e86-ae8f-b060a8c5200b",
   "metadata": {},
   "outputs": [
    {
     "data": {
      "image/png": "[encoded data removed]",
      "text/plain": [
       "<Figure size 640x480 with 1 Axes>"
      ]
     },
     "metadata": {},
     "output_type": "display_data"
    }
   ],
   "source": [
    "sns.countplot(x='Outlet_Type', data=train)\n",
    "plt.title(\"Count of Outlets by Type\")\n",
    "plt.show()"
   ]
  },
  {
   "cell_type": "markdown",
   "id": "04635648-c5cd-4fdf-8bc2-3f507ffa932f",
   "metadata": {},
   "source": [
    "#### Supermarket Type1 was the most frequent."
   ]
  },
  {
   "cell_type": "code",
   "execution_count": 83,
   "id": "f03639a4-54cb-44bf-8a0f-27cb140bcfad",
   "metadata": {},
   "outputs": [
    {
     "data": {
      "image/png": "[encoded data removed]",
      "text/plain": [
       "<Figure size 640x480 with 1 Axes>"
      ]
     },
     "metadata": {},
     "output_type": "display_data"
    }
   ],
   "source": [
    "train['Item_Type'].value_counts().plot.barh()\n",
    "plt.show()"
   ]
  },
  {
   "cell_type": "markdown",
   "id": "365a2dd3-2232-4270-9d1e-50755e0954cf",
   "metadata": {},
   "source": [
    "##### “Fruits and Vegetables,” “Snack Foods,” “Household” are top categories."
   ]
  },
  {
   "cell_type": "code",
   "execution_count": 41,
   "id": "3e5f890e-3e32-448d-b743-755bfecaabbe",
   "metadata": {},
   "outputs": [
    {
     "name": "stderr",
     "output_type": "stream",
     "text": [
      "C:\\Users\\somas\\AppData\\Local\\Temp\\ipykernel_33532\\2653063707.py:3: FutureWarning: A value is trying to be set on a copy of a DataFrame or Series through chained assignment using an inplace method.\n",
      "The behavior will change in pandas 3.0. This inplace method will never work because the intermediate object on which we are setting values always behaves as a copy.\n",
      "\n",
      "For example, when doing 'df[col].method(value, inplace=True)', try using 'df.method({col: value}, inplace=True)' or df[col] = df[col].method(value) instead, to perform the operation inplace on the original object.\n",
      "\n",
      "\n",
      "  train['Item_Weight'].fillna(train['Item_Weight'].median(), inplace=True)\n",
      "C:\\Users\\somas\\AppData\\Local\\Temp\\ipykernel_33532\\2653063707.py:4: FutureWarning: A value is trying to be set on a copy of a DataFrame or Series through chained assignment using an inplace method.\n",
      "The behavior will change in pandas 3.0. This inplace method will never work because the intermediate object on which we are setting values always behaves as a copy.\n",
      "\n",
      "For example, when doing 'df[col].method(value, inplace=True)', try using 'df.method({col: value}, inplace=True)' or df[col] = df[col].method(value) instead, to perform the operation inplace on the original object.\n",
      "\n",
      "\n",
      "  test['Item_Weight'].fillna(test['Item_Weight'].median(), inplace=True)\n",
      "C:\\Users\\somas\\AppData\\Local\\Temp\\ipykernel_33532\\2653063707.py:7: FutureWarning: A value is trying to be set on a copy of a DataFrame or Series through chained assignment using an inplace method.\n",
      "The behavior will change in pandas 3.0. This inplace method will never work because the intermediate object on which we are setting values always behaves as a copy.\n",
      "\n",
      "For example, when doing 'df[col].method(value, inplace=True)', try using 'df.method({col: value}, inplace=True)' or df[col] = df[col].method(value) instead, to perform the operation inplace on the original object.\n",
      "\n",
      "\n",
      "  train['Outlet_Size'].fillna('Unknown', inplace=True)\n",
      "C:\\Users\\somas\\AppData\\Local\\Temp\\ipykernel_33532\\2653063707.py:8: FutureWarning: A value is trying to be set on a copy of a DataFrame or Series through chained assignment using an inplace method.\n",
      "The behavior will change in pandas 3.0. This inplace method will never work because the intermediate object on which we are setting values always behaves as a copy.\n",
      "\n",
      "For example, when doing 'df[col].method(value, inplace=True)', try using 'df.method({col: value}, inplace=True)' or df[col] = df[col].method(value) instead, to perform the operation inplace on the original object.\n",
      "\n",
      "\n",
      "  test['Outlet_Size'].fillna('Unknown', inplace=True)\n",
      "C:\\Users\\somas\\AppData\\Local\\Temp\\ipykernel_33532\\2653063707.py:11: FutureWarning: A value is trying to be set on a copy of a DataFrame or Series through chained assignment using an inplace method.\n",
      "The behavior will change in pandas 3.0. This inplace method will never work because the intermediate object on which we are setting values always behaves as a copy.\n",
      "\n",
      "For example, when doing 'df[col].method(value, inplace=True)', try using 'df.method({col: value}, inplace=True)' or df[col] = df[col].method(value) instead, to perform the operation inplace on the original object.\n",
      "\n",
      "\n",
      "  train['Item_Fat_Content'].replace({'low fat': 'Low Fat','LF': 'Low Fat','reg': 'Regular'}, inplace=True)\n",
      "C:\\Users\\somas\\AppData\\Local\\Temp\\ipykernel_33532\\2653063707.py:12: FutureWarning: A value is trying to be set on a copy of a DataFrame or Series through chained assignment using an inplace method.\n",
      "The behavior will change in pandas 3.0. This inplace method will never work because the intermediate object on which we are setting values always behaves as a copy.\n",
      "\n",
      "For example, when doing 'df[col].method(value, inplace=True)', try using 'df.method({col: value}, inplace=True)' or df[col] = df[col].method(value) instead, to perform the operation inplace on the original object.\n",
      "\n",
      "\n",
      "  test['Item_Fat_Content'].replace({'low fat': 'Low Fat','LF': 'Low Fat','reg': 'Regular'}, inplace=True)\n"
     ]
    }
   ],
   "source": [
    "# 2. DATA CLEANING\n",
    "# Missing Item_Weight => median\n",
    "train['Item_Weight'].fillna(train['Item_Weight'].median(), inplace=True)\n",
    "test['Item_Weight'].fillna(test['Item_Weight'].median(), inplace=True)\n",
    "\n",
    "# Missing Outlet_Size => 'Unknown'\n",
    "train['Outlet_Size'].fillna('Unknown', inplace=True)\n",
    "test['Outlet_Size'].fillna('Unknown', inplace=True)\n",
    "\n",
    "# Standardize Item_Fat_Content\n",
    "train['Item_Fat_Content'].replace({'low fat': 'Low Fat','LF': 'Low Fat','reg': 'Regular'}, inplace=True)\n",
    "test['Item_Fat_Content'].replace({'low fat': 'Low Fat','LF': 'Low Fat','reg': 'Regular'}, inplace=True)\n",
    "\n",
    "# Zero Item_Visibility => median by Item_Identifier\n",
    "visibility_median = train.groupby('Item_Identifier')['Item_Visibility'].median()\n",
    "train.loc[train['Item_Visibility'] == 0, 'Item_Visibility'] = \\\n",
    "    train['Item_Identifier'].map(visibility_median)\n",
    "test.loc[test['Item_Visibility'] == 0, 'Item_Visibility'] = \\\n",
    "    test['Item_Identifier'].map(visibility_median)"
   ]
  },
  {
   "cell_type": "markdown",
   "id": "2c903446-c548-461a-9f70-da4b1851490f",
   "metadata": {},
   "source": [
    "### Imputations & Corrections\n",
    "Item_Weight → median\n",
    "Outlet_Size → \"Unknown\"\n",
    "Item_Visibility → zero replaced by median grouped by Item_Identifier.\n",
    "3.3 New Columns\n",
    "Outlet_Age\n",
    "\n",
    "2023 - Outlet_Establishment_Year\n",
    "Hypothesis: older outlets may have higher footfall or stable sales.\n",
    "Item–Outlet Aggregator Features\n",
    "\n",
    "Item_Mean_Sales: mean of Item_Outlet_Sales for each Item_Identifier.\n",
    "Outlet_Mean_Sales: mean of Item_Outlet_Sales for each Outlet_Identifier.\n",
    "Merged them into train & test (filling missing merges in test with overall mean).\n",
    "Why: Some items typically sell more, certain outlets typically yield higher sales. These aggregator features capture that directly.\n",
    "Log Transform of target (Item_Outlet_Sales) → Log_Sales.\n",
    "\n",
    "This addresses skew/outlier impact in sales."
   ]
  },
  {
   "cell_type": "code",
   "execution_count": 43,
   "id": "3560dfa5-3afd-41cc-abf9-96690f2bce34",
   "metadata": {},
   "outputs": [
    {
     "name": "stderr",
     "output_type": "stream",
     "text": [
      "C:\\Users\\somas\\AppData\\Local\\Temp\\ipykernel_33532\\2506279261.py:31: FutureWarning: A value is trying to be set on a copy of a DataFrame or Series through chained assignment using an inplace method.\n",
      "The behavior will change in pandas 3.0. This inplace method will never work because the intermediate object on which we are setting values always behaves as a copy.\n",
      "\n",
      "For example, when doing 'df[col].method(value, inplace=True)', try using 'df.method({col: value}, inplace=True)' or df[col] = df[col].method(value) instead, to perform the operation inplace on the original object.\n",
      "\n",
      "\n",
      "  test['Item_Mean_Sales'].fillna(global_mean_sales, inplace=True)\n",
      "C:\\Users\\somas\\AppData\\Local\\Temp\\ipykernel_33532\\2506279261.py:32: FutureWarning: A value is trying to be set on a copy of a DataFrame or Series through chained assignment using an inplace method.\n",
      "The behavior will change in pandas 3.0. This inplace method will never work because the intermediate object on which we are setting values always behaves as a copy.\n",
      "\n",
      "For example, when doing 'df[col].method(value, inplace=True)', try using 'df.method({col: value}, inplace=True)' or df[col] = df[col].method(value) instead, to perform the operation inplace on the original object.\n",
      "\n",
      "\n",
      "  test['Outlet_Mean_Sales'].fillna(global_mean_sales, inplace=True)\n"
     ]
    }
   ],
   "source": [
    "# 3. FEATURE ENGINEERING\n",
    "\n",
    "# Outlet Age\n",
    "train['Outlet_Age'] = 2023 - train['Outlet_Establishment_Year']\n",
    "test['Outlet_Age'] = 2023 - test['Outlet_Establishment_Year']\n",
    "\n",
    "train.drop('Outlet_Establishment_Year', axis=1, inplace=True)\n",
    "test.drop('Outlet_Establishment_Year', axis=1, inplace=True)\n",
    "\n",
    "# AGGREGATE FEATURES (ITEM & OUTLET) \n",
    "# Let's create 2 aggregator features from the training set:\n",
    "#   (1) mean sales per Item_Identifier\n",
    "#   (2) mean sales per Outlet_Identifier\n",
    "\n",
    "item_mean_sales = train.groupby('Item_Identifier')['Item_Outlet_Sales'].mean().reset_index()\n",
    "item_mean_sales.columns = ['Item_Identifier','Item_Mean_Sales']\n",
    "\n",
    "outlet_mean_sales = train.groupby('Outlet_Identifier')['Item_Outlet_Sales'].mean().reset_index()\n",
    "outlet_mean_sales.columns = ['Outlet_Identifier','Outlet_Mean_Sales']\n",
    "\n",
    "# Merge these aggregates into train\n",
    "train = pd.merge(train, item_mean_sales, on='Item_Identifier', how='left')\n",
    "train = pd.merge(train, outlet_mean_sales, on='Outlet_Identifier', how='left')\n",
    "\n",
    "# We'll do the same merges for test\n",
    "test = pd.merge(test, item_mean_sales, on='Item_Identifier', how='left')\n",
    "test = pd.merge(test, outlet_mean_sales, on='Outlet_Identifier', how='left')\n",
    "\n",
    "# NA might appear in test merges if an ID doesn't exist in train. Fill with global mean.\n",
    "global_mean_sales = train['Item_Outlet_Sales'].mean()\n",
    "test['Item_Mean_Sales'].fillna(global_mean_sales, inplace=True)\n",
    "test['Outlet_Mean_Sales'].fillna(global_mean_sales, inplace=True)"
   ]
  },
  {
   "cell_type": "markdown",
   "id": "5a4d6b94-1203-409b-bd35-72a3fe8b8b8f",
   "metadata": {},
   "source": [
    "#### We derived a new feature, Outlet_Age, by subtracting the establishment year from the current year (2023).\n",
    "We then dropped the original Outlet_Establishment_Year, as it’s now redundant.\n",
    "#### Why We Did It:\n",
    "Direct Age: Knowing an outlet is, say, 30 years old vs. established in 1993 can be more intuitive for the model.\n",
    "Comparative Consistency: A numeric “outlet age” might correlate with store reputation, loyal customer base, or wear-and-tear factors that affect sales.\n",
    "Single Dimension: Replacing a year with age eliminates confusion about which baseline year to compare; the model sees a direct measure of how old each outlet is."
   ]
  },
  {
   "cell_type": "code",
   "execution_count": 45,
   "id": "706888d2-812f-4712-b4f2-2531e94e64f4",
   "metadata": {},
   "outputs": [],
   "source": [
    "# 4. LABEL ENCODING\n",
    "\n",
    "encoder = LabelEncoder()\n",
    "categorical_cols = [\n",
    "    'Item_Identifier', 'Item_Fat_Content', 'Item_Type',\n",
    "    'Outlet_Identifier', 'Outlet_Size', 'Outlet_Location_Type', 'Outlet_Type'\n",
    "]\n",
    "\n",
    "for col in categorical_cols:\n",
    "    train[col] = encoder.fit_transform(train[col])\n",
    "    test[col] = encoder.transform(test[col])"
   ]
  },
  {
   "cell_type": "markdown",
   "id": "e0ed5bf3-44ee-4153-8b7a-c5f2db7840d8",
   "metadata": {},
   "source": [
    "#### Label Encoding (simple integer assignment)."
   ]
  },
  {
   "cell_type": "code",
   "execution_count": 47,
   "id": "c0a947fd-b1c2-4d1c-9ad6-dc85c6398e02",
   "metadata": {},
   "outputs": [],
   "source": [
    "# 5. LOG TRANSFORM THE TARGET\n",
    "\n",
    "# Convert target to log-space to reduce outlier impact\n",
    "train['Log_Sales'] = np.log1p(train['Item_Outlet_Sales'])\n",
    "\n",
    "# 6. DEFINE FEATURES & TARGET\n",
    "\n",
    "# We'll drop 'Item_Outlet_Sales' in favor of 'Log_Sales' for training\n",
    "X = train.drop(columns=['Item_Outlet_Sales','Log_Sales'])\n",
    "y = train['Log_Sales']   # log-transformed target"
   ]
  },
  {
   "cell_type": "code",
   "execution_count": 49,
   "id": "d5211652-51cb-4faa-af63-56ac0bee5d63",
   "metadata": {},
   "outputs": [],
   "source": [
    "# 7. TRAIN-TEST SPLIT\n",
    "\n",
    "X_train, X_valid, y_train, y_valid = train_test_split(\n",
    "    X, y, test_size=0.2, random_state=42\n",
    ")"
   ]
  },
  {
   "cell_type": "code",
   "execution_count": 51,
   "id": "b23b9808-028d-4d0b-bf6c-12c9cba0a54d",
   "metadata": {},
   "outputs": [],
   "source": [
    "# 8. SCALING NUMERIC FEATURES\n",
    "\n",
    "scaler = StandardScaler()\n",
    "num_cols = [\n",
    "    'Item_Weight','Item_Visibility','Item_MRP','Outlet_Age',\n",
    "    'Item_Mean_Sales','Outlet_Mean_Sales'  # newly added aggregator columns\n",
    "]\n",
    "\n",
    "X_train[num_cols] = scaler.fit_transform(X_train[num_cols])\n",
    "X_valid[num_cols] = scaler.transform(X_valid[num_cols])\n",
    "test[num_cols]     = scaler.transform(test[num_cols])"
   ]
  },
  {
   "cell_type": "markdown",
   "id": "d34ee7d0-e05a-4046-82bc-20cde1cf4aab",
   "metadata": {},
   "source": [
    "#### We used StandardScaler on:\n",
    "\n",
    "Item_Weight, Item_Visibility, Item_MRP, Outlet_Age, plus aggregator features Item_Mean_Sales & Outlet_Mean_Sales.\n",
    "This helps advanced models (like RandomForest, CatBoost) handle numeric magnitude differences more gracefully."
   ]
  },
  {
   "cell_type": "code",
   "execution_count": 53,
   "id": "1bf6b08a-5913-4630-9f25-b1748e8bacd6",
   "metadata": {},
   "outputs": [
    {
     "name": "stdout",
     "output_type": "stream",
     "text": [
      "[Random Forest] RMSE: 1005.2302\n"
     ]
    }
   ],
   "source": [
    "# 9. RANDOM FOREST MODEL\n",
    "\n",
    "rf_model = RandomForestRegressor(\n",
    "    n_estimators=200, max_depth=10, random_state=42\n",
    ")\n",
    "\n",
    "rf_model.fit(X_train, y_train)\n",
    "rf_preds_log = rf_model.predict(X_valid)\n",
    "\n",
    "# Evaluate with RMSE in normal space\n",
    "rf_preds_normal = np.expm1(rf_preds_log)  # revert log->normal\n",
    "y_valid_normal  = np.expm1(y_valid)\n",
    "\n",
    "rf_rmse = np.sqrt(mean_squared_error(y_valid_normal, rf_preds_normal))\n",
    "print(f'[Random Forest] RMSE: {rf_rmse:.4f}')"
   ]
  },
  {
   "cell_type": "code",
   "execution_count": 54,
   "id": "a47f02af-832c-49b9-b9c5-5684c1881d24",
   "metadata": {},
   "outputs": [],
   "source": [
    "# 10. TRAIN ON FULL DATA & PREDICT\n",
    "\n",
    "rf_model.fit(X, y)\n",
    "test_preds_log = rf_model.predict(test)\n",
    "test_preds_normal = np.expm1(test_preds_log)"
   ]
  },
  {
   "cell_type": "code",
   "execution_count": 57,
   "id": "6bdc0b2e-c48f-4d7a-af57-fd9e81ca0e34",
   "metadata": {},
   "outputs": [
    {
     "data": {
      "text/html": [
       "<div>\n",
       "<style scoped>\n",
       "    .dataframe tbody tr th:only-of-type {\n",
       "        vertical-align: middle;\n",
       "    }\n",
       "\n",
       "    .dataframe tbody tr th {\n",
       "        vertical-align: top;\n",
       "    }\n",
       "\n",
       "    .dataframe thead th {\n",
       "        text-align: right;\n",
       "    }\n",
       "</style>\n",
       "<table border=\"1\" class=\"dataframe\">\n",
       "  <thead>\n",
       "    <tr style=\"text-align: right;\">\n",
       "      <th></th>\n",
       "      <th>Item_Identifier</th>\n",
       "      <th>Outlet_Identifier</th>\n",
       "      <th>Item_Outlet_Sales</th>\n",
       "    </tr>\n",
       "  </thead>\n",
       "  <tbody>\n",
       "    <tr>\n",
       "      <th>0</th>\n",
       "      <td>FDW58</td>\n",
       "      <td>OUT049</td>\n",
       "      <td>99.678950</td>\n",
       "    </tr>\n",
       "    <tr>\n",
       "      <th>1</th>\n",
       "      <td>FDW14</td>\n",
       "      <td>OUT017</td>\n",
       "      <td>96.660457</td>\n",
       "    </tr>\n",
       "    <tr>\n",
       "      <th>2</th>\n",
       "      <td>NCN55</td>\n",
       "      <td>OUT010</td>\n",
       "      <td>74.599387</td>\n",
       "    </tr>\n",
       "    <tr>\n",
       "      <th>3</th>\n",
       "      <td>FDQ58</td>\n",
       "      <td>OUT017</td>\n",
       "      <td>93.832342</td>\n",
       "    </tr>\n",
       "    <tr>\n",
       "      <th>4</th>\n",
       "      <td>FDY38</td>\n",
       "      <td>OUT027</td>\n",
       "      <td>109.593872</td>\n",
       "    </tr>\n",
       "    <tr>\n",
       "      <th>5</th>\n",
       "      <td>FDH56</td>\n",
       "      <td>OUT046</td>\n",
       "      <td>105.395864</td>\n",
       "    </tr>\n",
       "    <tr>\n",
       "      <th>6</th>\n",
       "      <td>FDL48</td>\n",
       "      <td>OUT018</td>\n",
       "      <td>88.237783</td>\n",
       "    </tr>\n",
       "    <tr>\n",
       "      <th>7</th>\n",
       "      <td>FDC48</td>\n",
       "      <td>OUT027</td>\n",
       "      <td>112.139461</td>\n",
       "    </tr>\n",
       "    <tr>\n",
       "      <th>8</th>\n",
       "      <td>FDN33</td>\n",
       "      <td>OUT045</td>\n",
       "      <td>100.464615</td>\n",
       "    </tr>\n",
       "    <tr>\n",
       "      <th>9</th>\n",
       "      <td>FDA36</td>\n",
       "      <td>OUT017</td>\n",
       "      <td>102.486471</td>\n",
       "    </tr>\n",
       "  </tbody>\n",
       "</table>\n",
       "</div>"
      ],
      "text/plain": [
       "  Item_Identifier Outlet_Identifier  Item_Outlet_Sales\n",
       "0           FDW58            OUT049          99.678950\n",
       "1           FDW14            OUT017          96.660457\n",
       "2           NCN55            OUT010          74.599387\n",
       "3           FDQ58            OUT017          93.832342\n",
       "4           FDY38            OUT027         109.593872\n",
       "5           FDH56            OUT046         105.395864\n",
       "6           FDL48            OUT018          88.237783\n",
       "7           FDC48            OUT027         112.139461\n",
       "8           FDN33            OUT045         100.464615\n",
       "9           FDA36            OUT017         102.486471"
      ]
     },
     "metadata": {},
     "output_type": "display_data"
    }
   ],
   "source": [
    "submission['Item_Outlet_Sales'] = test_preds_normal\n",
    "display(submission.head(10))"
   ]
  },
  {
   "cell_type": "code",
   "execution_count": 109,
   "id": "2e94083b-2949-4b57-845d-d1a3b2161c7f",
   "metadata": {},
   "outputs": [
    {
     "name": "stdout",
     "output_type": "stream",
     "text": [
      "✅ Submission file saved at: C:\\Users\\somas\\Documents\\BigMart Sales Prediction\\RF_BigMartSalesPredictions.csv\n"
     ]
    }
   ],
   "source": [
    "# 11. SUBMISSION\n",
    "\n",
    "# Create submission with original IDs (test_original)\n",
    "submission = test_original[['Item_Identifier', 'Outlet_Identifier']].copy()\n",
    "submission['Item_Outlet_Sales'] = test_preds_normal\n",
    "\n",
    "project_dir = os.getcwd()\n",
    "submission_file_path = os.path.join(project_dir, \"RF_BigMartSalesPredictions.csv\")\n",
    "\n",
    "submission.to_csv(submission_file_path, index=False)\n",
    "print(f'✅ Submission file saved at: {submission_file_path}')"
   ]
  },
  {
   "cell_type": "code",
   "execution_count": null,
   "id": "9d9c5c7f-e5f4-43fd-af64-9383fbf81ab6",
   "metadata": {},
   "outputs": [],
   "source": []
  }
 ],
 "metadata": {
  "kernelspec": {
   "display_name": "Python 3 (ipykernel)",
   "language": "python",
   "name": "python3"
  },
  "language_info": {
   "codemirror_mode": {
    "name": "ipython",
    "version": 3
   },
   "file_extension": ".py",
   "mimetype": "text/x-python",
   "name": "python",
   "nbconvert_exporter": "python",
   "pygments_lexer": "ipython3",
   "version": "3.12.7"
  }
 },
 "nbformat": 4,
 "nbformat_minor": 5
}
